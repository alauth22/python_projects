{
 "cells": [
  {
   "cell_type": "markdown",
   "id": "9a42eb99-84a5-4348-bc4b-6e54db77ec48",
   "metadata": {},
   "source": [
    "### Mab Libs Project 05.03.22"
   ]
  },
  {
   "cell_type": "markdown",
   "id": "a79faac9-d677-4f8d-9b69-66bebe064a32",
   "metadata": {},
   "source": [
    "#### as the user to place a word in the prompt and then mix it with the sentences. "
   ]
  },
  {
   "cell_type": "code",
   "execution_count": null,
   "id": "226a7d87-8264-4d5a-b5fd-dfbf92d62aef",
   "metadata": {},
   "outputs": [],
   "source": []
  },
  {
   "cell_type": "code",
   "execution_count": 9,
   "id": "dddfe08f-a8fa-4a84-8c31-cb7de079bd7f",
   "metadata": {},
   "outputs": [
    {
     "name": "stdin",
     "output_type": "stream",
     "text": [
      "Enter a color:  blue\n",
      "Enter a plural noun:  eagles\n",
      "Enter the name of a family member:  Debbie\n"
     ]
    },
    {
     "name": "stdout",
     "output_type": "stream",
     "text": [
      "Hello! My favorite color is blue, and I love eagles! I am also related to Debbie.\n"
     ]
    }
   ],
   "source": [
    "#ask user to give ceratin words \n",
    "#hit enter to proceed \n",
    "\n",
    "color = input(\"Enter a color: \")\n",
    "plural_noun = input(\"Enter a plural noun: \") \n",
    "family_member = input(\"Enter the name of a family member: \")\n",
    "\n",
    "#using f strings here. \n",
    "print(f\"Hello! My favorite color is {color}, and I love {plural_noun}! I am also related to {family_member}.\")"
   ]
  },
  {
   "cell_type": "code",
   "execution_count": 2,
   "id": "6b8426c5-31bd-4ab6-9228-0d521e52ecc9",
   "metadata": {},
   "outputs": [],
   "source": [
    "#f strings \n",
    "name = \"Amelia\"\n",
    "age = 24 "
   ]
  },
  {
   "cell_type": "code",
   "execution_count": 3,
   "id": "b484442e-46a6-46ad-9111-232d1202be36",
   "metadata": {},
   "outputs": [
    {
     "data": {
      "text/plain": [
       "'Hello, my name is Amelia! I am 24 years old. How about you?'"
      ]
     },
     "execution_count": 3,
     "metadata": {},
     "output_type": "execute_result"
    }
   ],
   "source": [
    "#my f string \n",
    "f\"Hello, my name is {name}! I am {age} years old. How about you?\""
   ]
  },
  {
   "cell_type": "code",
   "execution_count": null,
   "id": "aa8e4e29-8a93-4687-8a50-021dc7a521d2",
   "metadata": {},
   "outputs": [],
   "source": []
  }
 ],
 "metadata": {
  "kernelspec": {
   "display_name": "Python 3 (ipykernel)",
   "language": "python",
   "name": "python3"
  },
  "language_info": {
   "codemirror_mode": {
    "name": "ipython",
    "version": 3
   },
   "file_extension": ".py",
   "mimetype": "text/x-python",
   "name": "python",
   "nbconvert_exporter": "python",
   "pygments_lexer": "ipython3",
   "version": "3.7.8"
  }
 },
 "nbformat": 4,
 "nbformat_minor": 5
}
