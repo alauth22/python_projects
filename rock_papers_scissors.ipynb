{
 "cells": [
  {
   "cell_type": "code",
   "execution_count": null,
   "id": "b16ff4cc-5525-436f-aeb8-ec0b755f8190",
   "metadata": {},
   "outputs": [],
   "source": [
    "#raw code for rock_papers_scissors \n",
    "#maybe make a rock_papers_scissors game with the computer \n",
    "\n",
    "#need to ask the user for their first input. \n",
    "\n",
    "\n",
    "#create a list for the computer to randomly choose from \n",
    "\n",
    "\n",
    "#"
   ]
  },
  {
   "cell_type": "code",
   "execution_count": 22,
   "id": "4addd782-c836-4368-9b78-328e27894acc",
   "metadata": {},
   "outputs": [
    {
     "name": "stdin",
     "output_type": "stream",
     "text": [
      "Please start and say Rock, Paper, or Scissors:  rock\n"
     ]
    },
    {
     "name": "stdout",
     "output_type": "stream",
     "text": [
      "Oops! Either a word has been misspelled or you typed in a word not in this category. Try again!\n",
      "Rock smashes scissors! You win! Game over.\n"
     ]
    }
   ],
   "source": [
    "#raw code \n",
    "import random\n",
    "\n",
    "user_choice = input(\"Please start and say Rock, Paper, or Scissors: \")\n",
    "\n",
    "#list of possible values for game. \n",
    "value_list = [\"Rock\", \"Paper\", \"Scissors\", \"rock\", \"paper\", \"scissors\"]\n",
    "#allow computer to choose randomly what to take. \n",
    "computer_choice = random.choice(value_list)\n",
    "trys = 10\n",
    "\n",
    "for char in value_list:\n",
    "        if user_choice != char:\n",
    "            print(\"Oops! Either a word has been misspelled or you typed in a word not in this category. Try again!\")\n",
    "            break\n",
    "\n",
    "while trys > 0:        \n",
    "    #if user enters \"rock\" \n",
    "    if user_choice == \"Rock\" or user_choice == \"rock\":\n",
    "        if computer_choice == \"Rock\" or computer_choice == \"rock\":\n",
    "            print(\"It's a tie! Try again.\")\n",
    "            trys -= 1 \n",
    "        if computer_choice == \"Scissors\" or computer_choice == \"scissors\":\n",
    "            print(\"Rock smashes scissors! You win! Game over.\") \n",
    "            break \n",
    "        if computer_choice == \"Paper\" or computer_choice == \"paper\":\n",
    "            print(\"Paper covers rock. You lost. Game over.\") \n",
    "            break \n",
    "        \n",
    "    #if user enters \"scissors\"\n",
    "    if user_choice == \"Scissors\" or user_choice == \"scissors\":\n",
    "        if computer_choice == \"Rock\" or computer_choice == \"rock\":\n",
    "            print(\"Rock smasses scissors. You lost. Game over.\")\n",
    "            break \n",
    "        if computer_choice == \"Scissors\" or computer_choice == \"scissors\":\n",
    "            print(\"It's a tie! Try again.\") \n",
    "            trys -= 1\n",
    "        if computer_choice == \"Paper\" or computer_choice == \"paper\":\n",
    "            print(\"Scissors cut paper! You win! Game over.\") \n",
    "            break \n",
    "        \n",
    "    #if user enters \"paper\" \n",
    "    if user_choice == \"Paper\" or user_choice == \"paper\":\n",
    "        if computer_choice == \"Rock\" or computer_choice == \"rock\":\n",
    "            print(\"Paper covers rock! You win! Game over.\") \n",
    "            break \n",
    "        if computer_choice == \"Scissors\" or computer_choice == \"scissors\":\n",
    "            print(\"Scissors cut paper. You lost. Game over.\")\n",
    "            break \n",
    "        if computer_choice == \"Paper\" or computer_choice == \"paper\":\n",
    "            print(\"It's a tie! Try again.\") \n",
    "            trys -= 1\n"
   ]
  },
  {
   "cell_type": "code",
   "execution_count": null,
   "id": "fc919509-7074-4e41-9b1f-d63e11f0389c",
   "metadata": {},
   "outputs": [],
   "source": []
  },
  {
   "cell_type": "code",
   "execution_count": 23,
   "id": "86b3dc91-31fc-483e-b33d-dca067784cad",
   "metadata": {},
   "outputs": [],
   "source": [
    "#function form \n",
    "\n",
    "import random \n",
    "\n",
    "def rock_paper_scissors_game(user_choice):\n",
    "    '''\n",
    "    This is the rock_paper_scissors game which the user plays against the computer. \n",
    "    \n",
    "    Input:\n",
    "    user_choice: str, whatever input the user desires. \n",
    "    \n",
    "    Output:\n",
    "    str outputs describing who has won. \n",
    "    \n",
    "    '''\n",
    "    \n",
    "    #list of possible values for game. \n",
    "    value_list = [\"Rock\", \"Paper\", \"Scissors\", \"rock\", \"paper\", \"scissors\"]\n",
    "    #allow computer to choose randomly what to take. \n",
    "    computer_choice = random.choice(value_list)\n",
    "    trys = 10\n",
    "\n",
    "    # for char in value_list:\n",
    "    if user_choice not in value_list:  \n",
    "        print(\"Oops! Either a word has been misspelled or you typed in a word not in this category. Try again!\")\n",
    "        \n",
    "    else:\n",
    "        #if user enters \"rock\" \n",
    "        if user_choice == \"Rock\" or user_choice == \"rock\":\n",
    "            if computer_choice == \"Rock\" or computer_choice == \"rock\":\n",
    "                print(\"It's a tie! Try again.\")\n",
    "                trys -= 1 \n",
    "            if computer_choice == \"Scissors\" or computer_choice == \"scissors\":\n",
    "                print(\"Rock smashes scissors! You win! Game over.\") \n",
    "                # break \n",
    "            if computer_choice == \"Paper\" or computer_choice == \"paper\":\n",
    "                print(\"Paper covers rock. You lost. Game over.\") \n",
    "                # break \n",
    "\n",
    "        #if user enters \"scissors\"\n",
    "        if user_choice == \"Scissors\" or user_choice == \"scissors\":\n",
    "            if computer_choice == \"Rock\" or computer_choice == \"rock\":\n",
    "                print(\"Rock smasses scissors. You lost. Game over.\")\n",
    "                # break \n",
    "            if computer_choice == \"Scissors\" or computer_choice == \"scissors\":\n",
    "                print(\"It's a tie! Try again.\") \n",
    "                trys -= 1\n",
    "            if computer_choice == \"Paper\" or computer_choice == \"paper\":\n",
    "                print(\"Scissors cut paper! You win! Game over.\") \n",
    "                # break \n",
    "\n",
    "        #if user enters \"paper\" \n",
    "        if user_choice == \"Paper\" or user_choice == \"paper\":\n",
    "            if computer_choice == \"Rock\" or computer_choice == \"rock\":\n",
    "                print(\"Paper covers rock! You win! Game over.\") \n",
    "                # break \n",
    "            if computer_choice == \"Scissors\" or computer_choice == \"scissors\":\n",
    "                print(\"Scissors cut paper. You lost. Game over.\")\n",
    "                # break \n",
    "            if computer_choice == \"Paper\" or computer_choice == \"paper\":\n",
    "                print(\"It's a tie! Try again.\") \n",
    "                trys -= 1\n",
    "                        \n",
    "    return \n"
   ]
  },
  {
   "cell_type": "code",
   "execution_count": 25,
   "id": "8eea06c8-bee7-4db8-b4b7-c6232e6169ac",
   "metadata": {},
   "outputs": [
    {
     "name": "stdout",
     "output_type": "stream",
     "text": [
      "Scissors cut paper. You lost. Game over.\n"
     ]
    }
   ],
   "source": [
    "rock_paper_scissors_game(\"paper\")"
   ]
  },
  {
   "cell_type": "code",
   "execution_count": null,
   "id": "3e9963d3-8a99-4c29-b7fc-4f389018d00e",
   "metadata": {},
   "outputs": [],
   "source": []
  },
  {
   "cell_type": "code",
   "execution_count": 1,
   "id": "345d037c-2403-42f7-8cc0-d9a2b30c398f",
   "metadata": {},
   "outputs": [],
   "source": [
    "import scipy"
   ]
  },
  {
   "cell_type": "code",
   "execution_count": null,
   "id": "2bc5070d-3a48-4ed7-9014-184b665ba27c",
   "metadata": {},
   "outputs": [],
   "source": []
  }
 ],
 "metadata": {
  "kernelspec": {
   "display_name": "Python 3 (ipykernel)",
   "language": "python",
   "name": "python3"
  },
  "language_info": {
   "codemirror_mode": {
    "name": "ipython",
    "version": 3
   },
   "file_extension": ".py",
   "mimetype": "text/x-python",
   "name": "python",
   "nbconvert_exporter": "python",
   "pygments_lexer": "ipython3",
   "version": "3.7.8"
  }
 },
 "nbformat": 4,
 "nbformat_minor": 5
}
