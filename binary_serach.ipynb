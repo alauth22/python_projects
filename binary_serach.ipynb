{
 "cells": [
  {
   "cell_type": "code",
   "execution_count": null,
   "id": "b5e7a128-68fa-4f94-817c-0a7e9c98bed8",
   "metadata": {},
   "outputs": [],
   "source": []
  },
  {
   "cell_type": "code",
   "execution_count": 8,
   "id": "bb90e9da-48c7-4a7f-a525-391d56c03b1a",
   "metadata": {},
   "outputs": [
    {
     "name": "stdout",
     "output_type": "stream",
     "text": [
      "[1, 2, 3, 4, 5, 9, 10]\n"
     ]
    },
    {
     "data": {
      "text/plain": [
       "4"
      ]
     },
     "execution_count": 8,
     "metadata": {},
     "output_type": "execute_result"
    }
   ],
   "source": [
    "test = [1,4,5,2,3,9,10]\n",
    "final = sorted(test)\n",
    "final\n",
    "print(final)\n",
    "\n",
    "midpoint = final[int(len(final)/2)]\n",
    "midpoint"
   ]
  },
  {
   "cell_type": "code",
   "execution_count": 17,
   "id": "5353e58d-0b0c-425e-b757-b80ed473a0e1",
   "metadata": {},
   "outputs": [],
   "source": [
    "test_1 = [1,3,2,54,6,80,67]"
   ]
  },
  {
   "cell_type": "code",
   "execution_count": 19,
   "id": "5cdbac47-d86e-4aaf-918f-e4228397b45c",
   "metadata": {},
   "outputs": [
    {
     "data": {
      "text/plain": [
       "[1, 2, 3, 6, 54, 67, 80]"
      ]
     },
     "execution_count": 19,
     "metadata": {},
     "output_type": "execute_result"
    }
   ],
   "source": [
    "test_1.sort()\n",
    "test_1"
   ]
  },
  {
   "cell_type": "code",
   "execution_count": null,
   "id": "b9000933-0c7f-4b85-ac76-26756857e159",
   "metadata": {},
   "outputs": [],
   "source": []
  },
  {
   "cell_type": "code",
   "execution_count": 3,
   "id": "6601c717-0997-4c30-b8af-0db944c299c1",
   "metadata": {},
   "outputs": [],
   "source": [
    "def binary_search(seq, target):\n",
    "    '''\n",
    "    Binary search algorithm. \n",
    "    \n",
    "    Arguments:\n",
    "    lst: list of all the inputs you give it. \n",
    "    target: int value for which you are searching \n",
    "    \n",
    "    Outputs: \n",
    "    Index at which your target is found in the list. \n",
    "    '''\n",
    "    \n",
    "    low_index = 0 \n",
    "    high_index = len(seq) - 1\n",
    "    mid_index = 0 \n",
    "    \n",
    "    while low_index <= high_index:\n",
    "        mid_index = (low_index + high_index) // 2 #don't want any remainders. whole ints. \n",
    "        #now checking each condition \n",
    "        if seq[mid_index] > target:\n",
    "            #only want the left_hand side \n",
    "            high_index = mid_index - 1\n",
    "        elif seq[mid_index] < target:\n",
    "            #only want the right_hand side. \n",
    "            low_index = mid_index + 1\n",
    "        else: #if the mid = target \n",
    "            return mid_index\n",
    "    \n",
    "    return None \n",
    "        "
   ]
  },
  {
   "cell_type": "code",
   "execution_count": 5,
   "id": "66843d9a-9083-4096-ac16-461a5c53cda7",
   "metadata": {},
   "outputs": [
    {
     "name": "stdout",
     "output_type": "stream",
     "text": [
      "2\n"
     ]
    }
   ],
   "source": [
    "seq = [1,2,3,4,5]\n",
    "target = 3\n",
    "\n",
    "result = binary_search(seq, target)\n",
    "print(result)"
   ]
  },
  {
   "cell_type": "code",
   "execution_count": 7,
   "id": "1e4bd26e-44e5-4bbc-a9fa-0bf2ca1ba305",
   "metadata": {},
   "outputs": [
    {
     "data": {
      "text/plain": [
       "4"
      ]
     },
     "execution_count": 7,
     "metadata": {},
     "output_type": "execute_result"
    }
   ],
   "source": [
    "binary_search([1,2,3,4,5], 5)"
   ]
  },
  {
   "cell_type": "code",
   "execution_count": 41,
   "id": "c60c20d0-cc4a-400f-b6e8-e314e208be93",
   "metadata": {},
   "outputs": [],
   "source": []
  },
  {
   "cell_type": "code",
   "execution_count": null,
   "id": "a7d0ec9b-f4cb-468e-a3a0-72f1f84cbd90",
   "metadata": {},
   "outputs": [],
   "source": []
  }
 ],
 "metadata": {
  "kernelspec": {
   "display_name": "Python 3 (ipykernel)",
   "language": "python",
   "name": "python3"
  },
  "language_info": {
   "codemirror_mode": {
    "name": "ipython",
    "version": 3
   },
   "file_extension": ".py",
   "mimetype": "text/x-python",
   "name": "python",
   "nbconvert_exporter": "python",
   "pygments_lexer": "ipython3",
   "version": "3.7.8"
  }
 },
 "nbformat": 4,
 "nbformat_minor": 5
}
