{
 "cells": [
  {
   "cell_type": "code",
   "execution_count": null,
   "id": "8772a777-67c5-4ad1-afa4-ce149a87ee18",
   "metadata": {},
   "outputs": [],
   "source": [
    "#naive search is iterating through each vluae and asking does this one meet the target or not. \n",
    "#binary search it a lot faster than naive searching. "
   ]
  },
  {
   "cell_type": "code",
   "execution_count": null,
   "id": "5e2c0804-b3d2-418b-87e6-2da469434fc0",
   "metadata": {},
   "outputs": [],
   "source": [
    "def naive_search(target, length):\n",
    "    '''\n",
    "    This function will iterate through each element in the range, \n",
    "    and will stop once it has hit its target. \n",
    "    \n",
    "    \n",
    "    '''\n",
    "    "
   ]
  },
  {
   "cell_type": "code",
   "execution_count": null,
   "id": "38633db1-da9c-4f81-83ae-6e363d6d8be9",
   "metadata": {},
   "outputs": [],
   "source": []
  },
  {
   "cell_type": "code",
   "execution_count": null,
   "id": "bb90e9da-48c7-4a7f-a525-391d56c03b1a",
   "metadata": {},
   "outputs": [],
   "source": []
  },
  {
   "cell_type": "code",
   "execution_count": null,
   "id": "5353e58d-0b0c-425e-b757-b80ed473a0e1",
   "metadata": {},
   "outputs": [],
   "source": []
  },
  {
   "cell_type": "code",
   "execution_count": null,
   "id": "5cdbac47-d86e-4aaf-918f-e4228397b45c",
   "metadata": {},
   "outputs": [],
   "source": []
  },
  {
   "cell_type": "code",
   "execution_count": null,
   "id": "b1ad9244-1544-44a2-b3d7-f697a01b91d6",
   "metadata": {},
   "outputs": [],
   "source": []
  },
  {
   "cell_type": "code",
   "execution_count": null,
   "id": "992ab485-a038-4579-b552-36fde29b4658",
   "metadata": {},
   "outputs": [],
   "source": []
  }
 ],
 "metadata": {
  "kernelspec": {
   "display_name": "Python 3 (ipykernel)",
   "language": "python",
   "name": "python3"
  },
  "language_info": {
   "codemirror_mode": {
    "name": "ipython",
    "version": 3
   },
   "file_extension": ".py",
   "mimetype": "text/x-python",
   "name": "python",
   "nbconvert_exporter": "python",
   "pygments_lexer": "ipython3",
   "version": "3.7.8"
  }
 },
 "nbformat": 4,
 "nbformat_minor": 5
}
