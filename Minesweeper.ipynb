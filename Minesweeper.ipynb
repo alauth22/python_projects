{
 "cells": [
  {
   "cell_type": "code",
   "execution_count": null,
   "id": "70a25d31-a1d2-4aad-8717-5fdaa04d722a",
   "metadata": {},
   "outputs": [],
   "source": [
    "def minesweeper():\n",
    "    '''\n",
    "    Object of game:\n",
    "    User continuously selects a cell in a grid. Each square can either have a bomb or the number of \n",
    "    bombs in it's neighboring cells. Neighboring cells are adjacent horizontal, vertical, and diagonal. \n",
    "    If player selects cell with a bomb, then they lose. \n",
    "    \n",
    "    Steps:\n",
    "    Display empty grid \n",
    "    Randomly place a bomb\n",
    "    Randomly place two bombs within the grid\n",
    "    Levels of difficulty \n",
    "    Final Implementation \n",
    "    \n",
    "    '''\n",
    "    pass \n",
    "    "
   ]
  },
  {
   "cell_type": "code",
   "execution_count": null,
   "id": "13d587dc-d6d2-4f06-be2e-7151689b161b",
   "metadata": {},
   "outputs": [],
   "source": []
  },
  {
   "cell_type": "code",
   "execution_count": null,
   "id": "e76565fc-a875-4678-a81d-9b9917def774",
   "metadata": {},
   "outputs": [],
   "source": []
  },
  {
   "cell_type": "code",
   "execution_count": null,
   "id": "dd45deaa-b1e8-42e5-98fe-8cc8242ec1ef",
   "metadata": {},
   "outputs": [],
   "source": []
  },
  {
   "cell_type": "code",
   "execution_count": null,
   "id": "a6b1d398-42ef-4a14-b149-eab467f0c4a1",
   "metadata": {},
   "outputs": [],
   "source": []
  },
  {
   "cell_type": "code",
   "execution_count": null,
   "id": "084dd6dc-6653-47d0-8765-a42c8df41548",
   "metadata": {},
   "outputs": [],
   "source": []
  }
 ],
 "metadata": {
  "kernelspec": {
   "display_name": "Python 3 (ipykernel)",
   "language": "python",
   "name": "python3"
  },
  "language_info": {
   "codemirror_mode": {
    "name": "ipython",
    "version": 3
   },
   "file_extension": ".py",
   "mimetype": "text/x-python",
   "name": "python",
   "nbconvert_exporter": "python",
   "pygments_lexer": "ipython3",
   "version": "3.7.8"
  }
 },
 "nbformat": 4,
 "nbformat_minor": 5
}
