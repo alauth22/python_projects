{
 "cells": [
  {
   "cell_type": "markdown",
   "id": "dbb7b60a-fa72-42cb-970b-0222ed9afc60",
   "metadata": {},
   "source": [
    "### Guess the Number Game 05.03.22"
   ]
  },
  {
   "cell_type": "code",
   "execution_count": 2,
   "id": "0d8a8ab8-c0e4-40aa-815a-6aed19246657",
   "metadata": {},
   "outputs": [],
   "source": [
    "import random"
   ]
  },
  {
   "cell_type": "code",
   "execution_count": null,
   "id": "431e005d-ed07-4ec6-b17c-ec2e0e8a0ef9",
   "metadata": {},
   "outputs": [],
   "source": []
  },
  {
   "cell_type": "code",
   "execution_count": 3,
   "id": "55eebd3d-8032-49df-9654-2f7fa769c696",
   "metadata": {},
   "outputs": [
    {
     "data": {
      "text/plain": [
       "[0, 1, 2, 3, 4, 5, 6, 7, 8, 9, 10, 11, 12, 13, 14, 15, 16, 17, 18, 19, 20]"
      ]
     },
     "execution_count": 3,
     "metadata": {},
     "output_type": "execute_result"
    }
   ],
   "source": [
    "#testing if that will work: \n",
    "range_temp = range(0,21)\n",
    "range_list = []\n",
    "for i in range_temp:\n",
    "    range_list.append(i)\n",
    "range_list"
   ]
  },
  {
   "cell_type": "code",
   "execution_count": 4,
   "id": "ef9363b1-ed89-4961-8d52-d856b5860868",
   "metadata": {},
   "outputs": [
    {
     "data": {
      "text/plain": [
       "4"
      ]
     },
     "execution_count": 4,
     "metadata": {},
     "output_type": "execute_result"
    }
   ],
   "source": [
    "#can use this function to get the randomly selected integer. \n",
    "random.randrange(0,21)"
   ]
  },
  {
   "cell_type": "code",
   "execution_count": 5,
   "id": "3e35943d-29e3-43fd-bc9b-916554526c04",
   "metadata": {},
   "outputs": [
    {
     "data": {
      "text/plain": [
       "11"
      ]
     },
     "execution_count": 5,
     "metadata": {},
     "output_type": "execute_result"
    }
   ],
   "source": [
    "random.randint(0,20)"
   ]
  },
  {
   "cell_type": "code",
   "execution_count": null,
   "id": "6715f0b8-4ebc-4546-9bc8-b9238f2c2954",
   "metadata": {},
   "outputs": [],
   "source": []
  },
  {
   "cell_type": "code",
   "execution_count": 26,
   "id": "519288dd-e9eb-4071-b637-3a57625313f8",
   "metadata": {},
   "outputs": [],
   "source": [
    "#need an input message where we ask the user to pick a low bound and a high bound value. "
   ]
  },
  {
   "cell_type": "code",
   "execution_count": 35,
   "id": "f4eaca25-7953-4cc7-a111-49bd5a56d545",
   "metadata": {},
   "outputs": [
    {
     "name": "stdin",
     "output_type": "stream",
     "text": [
      "Enter a low_bound integer value:  2\n",
      "Enter a high_bound integer value:  5\n",
      "Enter your guessed integer value:  6\n"
     ]
    },
    {
     "name": "stdout",
     "output_type": "stream",
     "text": [
      "Incorret! You guessed too high.\n"
     ]
    },
    {
     "name": "stdin",
     "output_type": "stream",
     "text": [
      "Enter your guessed integer value:  8\n"
     ]
    },
    {
     "name": "stdout",
     "output_type": "stream",
     "text": [
      "Incorret! You guessed too high.\n"
     ]
    },
    {
     "name": "stdin",
     "output_type": "stream",
     "text": [
      "Enter your guessed integer value:  3\n"
     ]
    },
    {
     "name": "stdout",
     "output_type": "stream",
     "text": [
      "You guessed correctly!\n"
     ]
    }
   ],
   "source": [
    "#for ask the user what low and high they want. \n",
    "import random\n",
    "\n",
    "low = int(input(\"Enter a low_bound integer value: \"))\n",
    "high = int(input(\"Enter a high_bound integer value: \"))\n",
    "\n",
    "random_key = random.randint(low, high)\n",
    "guesses = 5\n",
    "\n",
    "#so while we have at least more than 0 available guesses: \n",
    "while guesses > 0:\n",
    "    #need to request the user to give their guessed integer value. \n",
    "    user_guess = int(input(\"Enter your guessed integer value: \"))\n",
    "    #if too small:\n",
    "    if user_guess < random_key:\n",
    "        print(\"Incorret! You guessed too low.\") \n",
    "        guesses -= 1\n",
    "    #if too large:\n",
    "    if user_guess > random_key:\n",
    "        print(\"Incorret! You guessed too high.\") \n",
    "        guesses -= 1 \n",
    "    #if user guessed correctly:\n",
    "    if user_guess == random_key:\n",
    "        print(\"You guessed correctly!\") \n",
    "        break \n",
    "    #take care of guesses:\n",
    "    if guesses == 0:\n",
    "        print(\"Sorry, you ran out of guesses. Try again next time!\")\n",
    "    \n"
   ]
  },
  {
   "cell_type": "code",
   "execution_count": 33,
   "id": "fd854e89-f186-40da-8d6d-8d80a1d96c50",
   "metadata": {},
   "outputs": [],
   "source": [
    "#function for the user guessing game: \n",
    "\n",
    "import random \n",
    "def user_guess(low_int, high_int):\n",
    "    '''\n",
    "    Function allows the computer to randomly select a mystery number \n",
    "    and user has 5 chances to guess that randomly-selected number. \n",
    "    \n",
    "    Arguments:\n",
    "    low_int: int \n",
    "    high_int: int \n",
    "    Note: These two integers will be your range values for the computer to select.\n",
    "    \n",
    "    Returns:\n",
    "    Allows the user to play the game and the interface with the computer. \n",
    "    \n",
    "    '''\n",
    "    random_key = random.randint(low_int, high_int)\n",
    "    guesses = 5 \n",
    "    \n",
    "    while guesses > 0:\n",
    "        user_guess = int(input(\"Enter your guessed integer value: \"))\n",
    "        \n",
    "        if user_guess < random_key:\n",
    "            print(\"Incorrect! You have guessed too low.\") \n",
    "            guesses -= 1\n",
    "        elif user_guess > random_key:\n",
    "            print(\"Incorrect! You have guessed too high.\") \n",
    "            guesses -= 1 \n",
    "        elif user_guess == random_key:\n",
    "            print(\"Correct! You have guessed the number!\") \n",
    "            break \n",
    "        elif guesses == 0:\n",
    "            print(\"Sorry! You have run out of guesses! Try again later!\") \n",
    "    return\n",
    "    "
   ]
  },
  {
   "cell_type": "code",
   "execution_count": 34,
   "id": "9a7fcd03-ae3b-4d89-bb0c-8458959178db",
   "metadata": {},
   "outputs": [
    {
     "name": "stdin",
     "output_type": "stream",
     "text": [
      "Enter your guessed integer value:  1\n"
     ]
    },
    {
     "name": "stdout",
     "output_type": "stream",
     "text": [
      "Incorrect! You have guessed too low.\n"
     ]
    },
    {
     "name": "stdin",
     "output_type": "stream",
     "text": [
      "Enter your guessed integer value:  4\n"
     ]
    },
    {
     "name": "stdout",
     "output_type": "stream",
     "text": [
      "Correct! You have guessed the number!\n"
     ]
    }
   ],
   "source": [
    "user_guess(1,10)"
   ]
  },
  {
   "cell_type": "code",
   "execution_count": null,
   "id": "11a40bd0-3b8a-4f1f-a326-94d1697742db",
   "metadata": {},
   "outputs": [],
   "source": []
  },
  {
   "cell_type": "code",
   "execution_count": 99,
   "id": "d2302d00-4fe0-4f6b-ada8-6f97dfb64796",
   "metadata": {},
   "outputs": [
    {
     "name": "stdin",
     "output_type": "stream",
     "text": [
      "Enter an integer between 1 and 100. This number will be your number for the computer to guess:  -110\n"
     ]
    },
    {
     "name": "stdout",
     "output_type": "stream",
     "text": [
      "This integer is too small. Please choose another integer that is larger.\n"
     ]
    }
   ],
   "source": [
    "#first need to get the user to give us a number for the computer to guess. \n",
    "\n",
    "user_num = float(input(\"Enter an integer between 1 and 100. This number will be your number for the computer to guess: \")) \n",
    "#need to check and make sure the number is within the required range. \n",
    "if user_num > 100:\n",
    "    print(\"This integer is too large. Please choose another integer that is smaller.\") \n",
    "\n",
    "if user_num < 1:\n",
    "    print(\"This integer is too small. Please choose another integer that is larger.\") \n",
    "    \n",
    "if user_num >= 1 and user_num <= 100:\n",
    "    \n",
    "    guess = random.randint(1, 100)\n",
    "    print(\"This is the computer's guess: \")\n",
    "\n",
    "    while user_num != None:\n",
    "        if guess > user_num:\n",
    "            print(\"The computer guessed too high.\") \n",
    "            #if the computer guessed too high, then we need to narrow our options. \n",
    "            guess -= 1\n",
    "            guess = random.randint(1, guess)\n",
    "        elif guess < user_num:\n",
    "            print(\"The computer guessed too low.\") \n",
    "            #if the computer guessed too low, then we need to increase our options and go up. \n",
    "            guess += 1\n",
    "            guess = random.randint(guess, 100) \n",
    "        elif guess == user_num:\n",
    "            print(\"The computer correctly guessed!\") \n",
    "            break \n",
    "              "
   ]
  },
  {
   "cell_type": "code",
   "execution_count": null,
   "id": "df177515-0e78-4441-bb86-fcce63eb14cf",
   "metadata": {},
   "outputs": [],
   "source": []
  },
  {
   "cell_type": "code",
   "execution_count": 94,
   "id": "31ad6e15-4d03-474f-93f8-c6192f70d1a0",
   "metadata": {},
   "outputs": [],
   "source": [
    "#function form for computer_guessing \n",
    "\n",
    "import random \n",
    "def computer_guessing(user_num):\n",
    "\n",
    "    if user_num > 100:\n",
    "        print(\"This integer is too large. Please choose another integer that is smaller.\")    \n",
    "    if user_num < 1:\n",
    "        print(\"This integer is too small. Please choose another integer that is larger.\") \n",
    "    if user_num >= 1 and user_num <= 100:\n",
    "        \n",
    "        guess = random.randint(1, 100)\n",
    "        print(\"This is the computer's guess: \")\n",
    "        \n",
    "        while user_num != None:\n",
    "            if guess > user_num:\n",
    "                print(\"The computer guessed too high.\") \n",
    "                #if the computer guessed too high, then we need to narrow our options. \n",
    "                guess -= 1\n",
    "                guess = random.randint(1, guess)\n",
    "            elif guess < user_num:\n",
    "                print(\"The computer guessed too low.\") \n",
    "                #if the computer guessed too low, then we need to increase our options and go up. \n",
    "                guess += 1\n",
    "                guess = random.randint(guess, 100) \n",
    "            elif guess == user_num:\n",
    "                print(\"The computer correctly guessed!\") \n",
    "                break \n",
    "    \n",
    "    return \n",
    "    "
   ]
  },
  {
   "cell_type": "code",
   "execution_count": 95,
   "id": "f7d1026a-bbdf-4a87-bbdb-3b0e548011af",
   "metadata": {},
   "outputs": [
    {
     "name": "stdout",
     "output_type": "stream",
     "text": [
      "This is the computer's guess: \n",
      "The computer guessed too high.\n",
      "The computer guessed too high.\n",
      "The computer correctly guessed!\n"
     ]
    }
   ],
   "source": [
    "computer_guessing(1)"
   ]
  },
  {
   "cell_type": "code",
   "execution_count": null,
   "id": "cf9707e3-d9c0-4135-b028-cb54ec4f9160",
   "metadata": {},
   "outputs": [],
   "source": []
  },
  {
   "cell_type": "code",
   "execution_count": 76,
   "id": "a4c8cf8f-e9b5-4fb7-916c-3cd958ff694c",
   "metadata": {},
   "outputs": [
    {
     "name": "stdin",
     "output_type": "stream",
     "text": [
      "Please enter a number:  99\n"
     ]
    },
    {
     "name": "stdout",
     "output_type": "stream",
     "text": [
      "Great!\n"
     ]
    }
   ],
   "source": [
    "test = int(input(\"Please enter a number: \"))\n",
    "if test > 100:\n",
    "    print(\"Too big\") \n",
    "if test < 1:\n",
    "    print(\"Too small\") \n",
    "if test >= 1 and test <= 100:\n",
    "    print(\"Great!\") "
   ]
  },
  {
   "cell_type": "code",
   "execution_count": null,
   "id": "eaa6c622-187a-47a2-9963-beb2e2dfc34a",
   "metadata": {},
   "outputs": [],
   "source": []
  },
  {
   "cell_type": "code",
   "execution_count": null,
   "id": "4421dd7a-4017-4dea-be93-323808c3f5e7",
   "metadata": {},
   "outputs": [],
   "source": []
  }
 ],
 "metadata": {
  "kernelspec": {
   "display_name": "Python 3 (ipykernel)",
   "language": "python",
   "name": "python3"
  },
  "language_info": {
   "codemirror_mode": {
    "name": "ipython",
    "version": 3
   },
   "file_extension": ".py",
   "mimetype": "text/x-python",
   "name": "python",
   "nbconvert_exporter": "python",
   "pygments_lexer": "ipython3",
   "version": "3.7.8"
  }
 },
 "nbformat": 4,
 "nbformat_minor": 5
}
